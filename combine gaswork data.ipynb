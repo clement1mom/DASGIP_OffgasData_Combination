{
 "cells": [
  {
   "cell_type": "code",
   "execution_count": 1,
   "metadata": {},
   "outputs": [],
   "source": [
    "import os\n",
    "import glob\n",
    "import pandas as pd\n",
    "from datetime import datetime\n",
    "list = []"
   ]
  },
  {
   "cell_type": "code",
   "execution_count": 2,
   "metadata": {},
   "outputs": [],
   "source": [
    "# Function = combine different csv files in same folder\n",
    "def combine(folder):\n",
    "    os.chdir(folder)\n",
    "    extension = 'csv'\n",
    "    all_filenames = [i for i in glob.glob('*.{}'.format(extension))]\n",
    "    #combine all files in the list\n",
    "    combined_csv = pd.concat([pd.read_csv(f) for f in all_filenames])\n",
    "    combined_csv[\"ID\"] = StreamToID[folder[-17:-9]]\n",
    "    combined_csv['Time&Date'] = pd.to_datetime(combined_csv['Time&Date'])\n",
    "    combined_csv = combined_csv[(combined_csv['Time&Date'] > '2022-10-26') & (combined_csv['Time&Date'] < '2022-11-15')]\n",
    "    #combined_csv[\"ID\"] = folder[-17:-9].replace(\"/\",\"\")\n",
    "    #combined_csv[\"ID\"] = all_folders[0][-7:].replace(\"/\",\"\")\n",
    "    #combined_csv.insert(0, \"ID\")\n",
    "    return combined_csv"
   ]
  },
  {
   "cell_type": "code",
   "execution_count": 3,
   "metadata": {},
   "outputs": [],
   "source": [
    "StreamToID = {\n",
    " 'STREAM64' : \"1 IN\",\n",
    " 'STREAM65' : \"1 OUT\",\n",
    " 'STREAM66' : \"2 IN\",\n",
    " 'STREAM67' : \"2 OUT\",\n",
    " 'STREAM68' : \"3 IN\",\n",
    " 'STREAM69' : \"3 OUT\",\n",
    " 'STREAM70' : \"4 IN\",\n",
    " 'STREAM71' : \"4 OUT\",\n",
    " 'STREAM72' : \"5 IN\",\n",
    " 'STREAM73' : \"5 OUT\",\n",
    " 'STREAM74' : \"6 IN\",\n",
    " 'STREAM75' : \"6 OUT\",\n",
    " 'STREAM76' : \"7 IN\",\n",
    " 'STREAM77' : \"7 OUT\",\n",
    " 'STREAM78' : \"8 IN\",\n",
    " 'STREAM79' : \"8 OUT\",\n",
    " 'STREAM80' : \"9 IN\",\n",
    " 'STREAM81' : \"9 OUT\",\n",
    " 'STREAM82' : \"10 IN\",\n",
    " 'STREAM83' : \"10 OUT\",\n",
    " 'STREAM84' : \"11 IN\",\n",
    " 'STREAM85' : \"11 OUT\",\n",
    " 'STREAM86' : \"12 IN\",\n",
    " 'STREAM87' : \"12 OUT\",\n",
    " 'STREAM88' : \"13 IN\",\n",
    " 'STREAM89' : \"13 OUT\",\n",
    " 'STREAM90' : \"14 IN\",\n",
    " 'STREAM91' : \"14 OUT\",\n",
    " 'STREAM92' : \"15 IN\",\n",
    " 'STREAM93' : \"15 OUT\",\n",
    " 'STREAM94' : \"16 IN\",\n",
    " 'STREAM95' : \"16 OUT\"\n",
    "}"
   ]
  },
  {
   "cell_type": "code",
   "execution_count": 4,
   "metadata": {},
   "outputs": [],
   "source": [
    "# Read/list folder and list name (save in the list)\n",
    "path = \"/Users/951963/OneDrive - DSM/Desktop/Python/Offgas ethanol data/gaswork\" \n",
    "dir_list = os.listdir(path)\n",
    "all_folder = []\n",
    "for i in  dir_list:\n",
    "    new_path = path + '/' + i + '/analysis'\n",
    "    #print(new_path)\n",
    "    all_folder.append(new_path)\n",
    "#all_folders = [path + i for i in dir_list + '/analysis']\n",
    "#all_folders = [path + '/analysis/' + i for i in dir_list] \n",
    "\n",
    "\n",
    "\n"
   ]
  },
  {
   "cell_type": "code",
   "execution_count": 5,
   "metadata": {},
   "outputs": [],
   "source": [
    "DF_list = []\n",
    "for i in all_folder:\n",
    "    \n",
    "    DF_list.append(combine(i))"
   ]
  },
  {
   "cell_type": "code",
   "execution_count": 14,
   "metadata": {},
   "outputs": [
    {
     "name": "stderr",
     "output_type": "stream",
     "text": [
      "C:\\ProgramData\\Anaconda3\\lib\\site-packages\\xlsxwriter\\workbook.py:336: UserWarning: Calling close() on already closed file.\n",
      "  warn(\"Calling close() on already closed file.\")\n"
     ]
    }
   ],
   "source": [
    "data = pd.ExcelWriter('summary.xlsx', engine='xlsxwriter')\n",
    "n = 0\n",
    "for table in DF_list:\n",
    "    if len(table[\"ID\"]) == 0:\n",
    "        pass\n",
    "    else:\n",
    "        table.to_excel(data, sheet_name = table[\"ID\"].iloc[0])\n",
    "    n += 1\n",
    "#summary.to_excel(data, sheet_name = \"summary\")\n",
    "data.save()\n",
    "data.close()"
   ]
  },
  {
   "cell_type": "code",
   "execution_count": null,
   "metadata": {},
   "outputs": [],
   "source": [
    "DF_list[2]"
   ]
  },
  {
   "cell_type": "code",
   "execution_count": null,
   "metadata": {},
   "outputs": [],
   "source": [
    "DF_list[2]['Time&Date'] = pd.to_datetime(DF_list[2]['Time&Date'])"
   ]
  },
  {
   "cell_type": "code",
   "execution_count": null,
   "metadata": {},
   "outputs": [],
   "source": [
    "DF_list[2][(DF_list[2]['Time&Date'] > '2022-09-22') & (DF_list[2]['Time&Date'] < '2022-09-25')]"
   ]
  },
  {
   "cell_type": "code",
   "execution_count": null,
   "metadata": {},
   "outputs": [],
   "source": [
    "from datetime import datetime"
   ]
  },
  {
   "cell_type": "code",
   "execution_count": null,
   "metadata": {},
   "outputs": [],
   "source": [
    "datetime_str = '2022/09/09 17:29:10'\n",
    "datetime_object = datetime.strptime(datetime_str, '%Y/%m/%d %H:%M:%S')"
   ]
  },
  {
   "cell_type": "code",
   "execution_count": null,
   "metadata": {},
   "outputs": [],
   "source": [
    "print(type(datetime_object))\n",
    "print(datetime_object)"
   ]
  },
  {
   "cell_type": "code",
   "execution_count": null,
   "metadata": {},
   "outputs": [],
   "source": [
    "datetime_object > \"2022-09-09\""
   ]
  },
  {
   "cell_type": "code",
   "execution_count": null,
   "metadata": {},
   "outputs": [],
   "source": [
    "datetime_object >= datetime.date(2022,9,9)"
   ]
  },
  {
   "cell_type": "code",
   "execution_count": null,
   "metadata": {},
   "outputs": [],
   "source": [
    "# Old code\n",
    "os.chdir(\"/Users/951963/OneDrive - DSM/Desktop/Python/Offgas ethanol data/gaswork/STREAM69/analysis\")\n",
    "extension = 'csv'\n",
    "all_filenames = [i for i in glob.glob('*.{}'.format(extension))]\n",
    "#combine all files in the list\n",
    "combined_csv = pd.concat([pd.read_csv(f) for f in all_filenames ])\n",
    "#export to csv\n",
    "combined_csv.to_csv( \"combined_csv.csv\", index=False, encoding='utf-8-sig')\n"
   ]
  }
 ],
 "metadata": {
  "kernelspec": {
   "display_name": "Python 3",
   "language": "python",
   "name": "python3"
  },
  "language_info": {
   "codemirror_mode": {
    "name": "ipython",
    "version": 3
   },
   "file_extension": ".py",
   "mimetype": "text/x-python",
   "name": "python",
   "nbconvert_exporter": "python",
   "pygments_lexer": "ipython3",
   "version": "3.8.8"
  }
 },
 "nbformat": 4,
 "nbformat_minor": 2
}
